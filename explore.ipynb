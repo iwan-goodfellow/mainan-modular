{
 "cells": [
  {
   "cell_type": "code",
   "execution_count": 15,
   "id": "80da7f8c",
   "metadata": {},
   "outputs": [],
   "source": [
    "import pandas as pd\n",
    "import numpy as np  \n",
    "import matplotlib.pyplot as plt\n",
    "import seaborn as sns\n",
    "from sklearn.model_selection import train_test_split, KFold, StratifiedKFold\n",
    "from sklearn.preprocessing import StandardScaler, MinMaxScaler, OneHotEncoder, LabelEncoder\n",
    "from sklearn.compose import ColumnTransformer\n",
    "\n",
    "import warnings\n",
    "warnings.filterwarnings(\"ignore\")\n",
    "pd.set_option('display.max_columns', 50)"
   ]
  },
  {
   "cell_type": "code",
   "execution_count": 3,
   "id": "93d07eae",
   "metadata": {},
   "outputs": [
    {
     "data": {
      "application/vnd.microsoft.datawrangler.viewer.v0+json": {
       "columns": [
        {
         "name": "index",
         "rawType": "int64",
         "type": "integer"
        },
        {
         "name": "id",
         "rawType": "int64",
         "type": "integer"
        },
        {
         "name": "Name",
         "rawType": "object",
         "type": "string"
        },
        {
         "name": "Gender",
         "rawType": "object",
         "type": "string"
        },
        {
         "name": "Age",
         "rawType": "float64",
         "type": "float"
        },
        {
         "name": "City",
         "rawType": "object",
         "type": "string"
        },
        {
         "name": "Working Professional or Student",
         "rawType": "object",
         "type": "string"
        },
        {
         "name": "Profession",
         "rawType": "object",
         "type": "unknown"
        },
        {
         "name": "Academic Pressure",
         "rawType": "float64",
         "type": "float"
        },
        {
         "name": "Work Pressure",
         "rawType": "float64",
         "type": "float"
        },
        {
         "name": "CGPA",
         "rawType": "float64",
         "type": "float"
        },
        {
         "name": "Study Satisfaction",
         "rawType": "float64",
         "type": "float"
        },
        {
         "name": "Job Satisfaction",
         "rawType": "float64",
         "type": "float"
        },
        {
         "name": "Sleep Duration",
         "rawType": "object",
         "type": "string"
        },
        {
         "name": "Dietary Habits",
         "rawType": "object",
         "type": "string"
        },
        {
         "name": "Degree",
         "rawType": "object",
         "type": "string"
        },
        {
         "name": "Have you ever had suicidal thoughts ?",
         "rawType": "object",
         "type": "string"
        },
        {
         "name": "Work/Study Hours",
         "rawType": "float64",
         "type": "float"
        },
        {
         "name": "Financial Stress",
         "rawType": "float64",
         "type": "float"
        },
        {
         "name": "Family History of Mental Illness",
         "rawType": "object",
         "type": "string"
        },
        {
         "name": "Depression",
         "rawType": "int64",
         "type": "integer"
        }
       ],
       "ref": "f43f6f48-f93d-4275-b021-453e75eb9707",
       "rows": [
        [
         "0",
         "0",
         "Aaradhya",
         "Female",
         "49.0",
         "Ludhiana",
         "Working Professional",
         "Chef",
         null,
         "5.0",
         null,
         null,
         "2.0",
         "More than 8 hours",
         "Healthy",
         "BHM",
         "No",
         "1.0",
         "2.0",
         "No",
         "0"
        ],
        [
         "1",
         "1",
         "Vivan",
         "Male",
         "26.0",
         "Varanasi",
         "Working Professional",
         "Teacher",
         null,
         "4.0",
         null,
         null,
         "3.0",
         "Less than 5 hours",
         "Unhealthy",
         "LLB",
         "Yes",
         "7.0",
         "3.0",
         "No",
         "1"
        ],
        [
         "2",
         "2",
         "Yuvraj",
         "Male",
         "33.0",
         "Visakhapatnam",
         "Student",
         null,
         "5.0",
         null,
         "8.97",
         "2.0",
         null,
         "5-6 hours",
         "Healthy",
         "B.Pharm",
         "Yes",
         "3.0",
         "1.0",
         "No",
         "1"
        ],
        [
         "3",
         "3",
         "Yuvraj",
         "Male",
         "22.0",
         "Mumbai",
         "Working Professional",
         "Teacher",
         null,
         "5.0",
         null,
         null,
         "1.0",
         "Less than 5 hours",
         "Moderate",
         "BBA",
         "Yes",
         "10.0",
         "1.0",
         "Yes",
         "1"
        ],
        [
         "4",
         "4",
         "Rhea",
         "Female",
         "30.0",
         "Kanpur",
         "Working Professional",
         "Business Analyst",
         null,
         "1.0",
         null,
         null,
         "1.0",
         "5-6 hours",
         "Unhealthy",
         "BBA",
         "Yes",
         "9.0",
         "4.0",
         "Yes",
         "0"
        ]
       ],
       "shape": {
        "columns": 20,
        "rows": 5
       }
      },
      "text/html": [
       "<div>\n",
       "<style scoped>\n",
       "    .dataframe tbody tr th:only-of-type {\n",
       "        vertical-align: middle;\n",
       "    }\n",
       "\n",
       "    .dataframe tbody tr th {\n",
       "        vertical-align: top;\n",
       "    }\n",
       "\n",
       "    .dataframe thead th {\n",
       "        text-align: right;\n",
       "    }\n",
       "</style>\n",
       "<table border=\"1\" class=\"dataframe\">\n",
       "  <thead>\n",
       "    <tr style=\"text-align: right;\">\n",
       "      <th></th>\n",
       "      <th>id</th>\n",
       "      <th>Name</th>\n",
       "      <th>Gender</th>\n",
       "      <th>Age</th>\n",
       "      <th>City</th>\n",
       "      <th>Working Professional or Student</th>\n",
       "      <th>Profession</th>\n",
       "      <th>Academic Pressure</th>\n",
       "      <th>Work Pressure</th>\n",
       "      <th>CGPA</th>\n",
       "      <th>Study Satisfaction</th>\n",
       "      <th>Job Satisfaction</th>\n",
       "      <th>Sleep Duration</th>\n",
       "      <th>Dietary Habits</th>\n",
       "      <th>Degree</th>\n",
       "      <th>Have you ever had suicidal thoughts ?</th>\n",
       "      <th>Work/Study Hours</th>\n",
       "      <th>Financial Stress</th>\n",
       "      <th>Family History of Mental Illness</th>\n",
       "      <th>Depression</th>\n",
       "    </tr>\n",
       "  </thead>\n",
       "  <tbody>\n",
       "    <tr>\n",
       "      <th>0</th>\n",
       "      <td>0</td>\n",
       "      <td>Aaradhya</td>\n",
       "      <td>Female</td>\n",
       "      <td>49.0</td>\n",
       "      <td>Ludhiana</td>\n",
       "      <td>Working Professional</td>\n",
       "      <td>Chef</td>\n",
       "      <td>NaN</td>\n",
       "      <td>5.0</td>\n",
       "      <td>NaN</td>\n",
       "      <td>NaN</td>\n",
       "      <td>2.0</td>\n",
       "      <td>More than 8 hours</td>\n",
       "      <td>Healthy</td>\n",
       "      <td>BHM</td>\n",
       "      <td>No</td>\n",
       "      <td>1.0</td>\n",
       "      <td>2.0</td>\n",
       "      <td>No</td>\n",
       "      <td>0</td>\n",
       "    </tr>\n",
       "    <tr>\n",
       "      <th>1</th>\n",
       "      <td>1</td>\n",
       "      <td>Vivan</td>\n",
       "      <td>Male</td>\n",
       "      <td>26.0</td>\n",
       "      <td>Varanasi</td>\n",
       "      <td>Working Professional</td>\n",
       "      <td>Teacher</td>\n",
       "      <td>NaN</td>\n",
       "      <td>4.0</td>\n",
       "      <td>NaN</td>\n",
       "      <td>NaN</td>\n",
       "      <td>3.0</td>\n",
       "      <td>Less than 5 hours</td>\n",
       "      <td>Unhealthy</td>\n",
       "      <td>LLB</td>\n",
       "      <td>Yes</td>\n",
       "      <td>7.0</td>\n",
       "      <td>3.0</td>\n",
       "      <td>No</td>\n",
       "      <td>1</td>\n",
       "    </tr>\n",
       "    <tr>\n",
       "      <th>2</th>\n",
       "      <td>2</td>\n",
       "      <td>Yuvraj</td>\n",
       "      <td>Male</td>\n",
       "      <td>33.0</td>\n",
       "      <td>Visakhapatnam</td>\n",
       "      <td>Student</td>\n",
       "      <td>NaN</td>\n",
       "      <td>5.0</td>\n",
       "      <td>NaN</td>\n",
       "      <td>8.97</td>\n",
       "      <td>2.0</td>\n",
       "      <td>NaN</td>\n",
       "      <td>5-6 hours</td>\n",
       "      <td>Healthy</td>\n",
       "      <td>B.Pharm</td>\n",
       "      <td>Yes</td>\n",
       "      <td>3.0</td>\n",
       "      <td>1.0</td>\n",
       "      <td>No</td>\n",
       "      <td>1</td>\n",
       "    </tr>\n",
       "    <tr>\n",
       "      <th>3</th>\n",
       "      <td>3</td>\n",
       "      <td>Yuvraj</td>\n",
       "      <td>Male</td>\n",
       "      <td>22.0</td>\n",
       "      <td>Mumbai</td>\n",
       "      <td>Working Professional</td>\n",
       "      <td>Teacher</td>\n",
       "      <td>NaN</td>\n",
       "      <td>5.0</td>\n",
       "      <td>NaN</td>\n",
       "      <td>NaN</td>\n",
       "      <td>1.0</td>\n",
       "      <td>Less than 5 hours</td>\n",
       "      <td>Moderate</td>\n",
       "      <td>BBA</td>\n",
       "      <td>Yes</td>\n",
       "      <td>10.0</td>\n",
       "      <td>1.0</td>\n",
       "      <td>Yes</td>\n",
       "      <td>1</td>\n",
       "    </tr>\n",
       "    <tr>\n",
       "      <th>4</th>\n",
       "      <td>4</td>\n",
       "      <td>Rhea</td>\n",
       "      <td>Female</td>\n",
       "      <td>30.0</td>\n",
       "      <td>Kanpur</td>\n",
       "      <td>Working Professional</td>\n",
       "      <td>Business Analyst</td>\n",
       "      <td>NaN</td>\n",
       "      <td>1.0</td>\n",
       "      <td>NaN</td>\n",
       "      <td>NaN</td>\n",
       "      <td>1.0</td>\n",
       "      <td>5-6 hours</td>\n",
       "      <td>Unhealthy</td>\n",
       "      <td>BBA</td>\n",
       "      <td>Yes</td>\n",
       "      <td>9.0</td>\n",
       "      <td>4.0</td>\n",
       "      <td>Yes</td>\n",
       "      <td>0</td>\n",
       "    </tr>\n",
       "  </tbody>\n",
       "</table>\n",
       "</div>"
      ],
      "text/plain": [
       "   id      Name  ... Family History of Mental Illness  Depression\n",
       "0   0  Aaradhya  ...                               No           0\n",
       "1   1     Vivan  ...                               No           1\n",
       "2   2    Yuvraj  ...                               No           1\n",
       "3   3    Yuvraj  ...                              Yes           1\n",
       "4   4      Rhea  ...                              Yes           0\n",
       "\n",
       "[5 rows x 20 columns]"
      ]
     },
     "execution_count": 3,
     "metadata": {},
     "output_type": "execute_result"
    }
   ],
   "source": [
    "df = pd.read_csv(r'D:\\ds_ridwan\\mainan-modular\\data\\train.csv')\n",
    "df.head()"
   ]
  },
  {
   "cell_type": "code",
   "execution_count": 6,
   "id": "54c5c494",
   "metadata": {},
   "outputs": [],
   "source": [
    "df.drop(columns=['id'], inplace=True)"
   ]
  },
  {
   "cell_type": "code",
   "execution_count": 4,
   "id": "b1a57b69",
   "metadata": {},
   "outputs": [
    {
     "name": "stdout",
     "output_type": "stream",
     "text": [
      "<class 'pandas.core.frame.DataFrame'>\n",
      "RangeIndex: 140700 entries, 0 to 140699\n",
      "Data columns (total 20 columns):\n",
      " #   Column                                 Non-Null Count   Dtype  \n",
      "---  ------                                 --------------   -----  \n",
      " 0   id                                     140700 non-null  int64  \n",
      " 1   Name                                   140700 non-null  object \n",
      " 2   Gender                                 140700 non-null  object \n",
      " 3   Age                                    140700 non-null  float64\n",
      " 4   City                                   140700 non-null  object \n",
      " 5   Working Professional or Student        140700 non-null  object \n",
      " 6   Profession                             104070 non-null  object \n",
      " 7   Academic Pressure                      27897 non-null   float64\n",
      " 8   Work Pressure                          112782 non-null  float64\n",
      " 9   CGPA                                   27898 non-null   float64\n",
      " 10  Study Satisfaction                     27897 non-null   float64\n",
      " 11  Job Satisfaction                       112790 non-null  float64\n",
      " 12  Sleep Duration                         140700 non-null  object \n",
      " 13  Dietary Habits                         140696 non-null  object \n",
      " 14  Degree                                 140698 non-null  object \n",
      " 15  Have you ever had suicidal thoughts ?  140700 non-null  object \n",
      " 16  Work/Study Hours                       140700 non-null  float64\n",
      " 17  Financial Stress                       140696 non-null  float64\n",
      " 18  Family History of Mental Illness       140700 non-null  object \n",
      " 19  Depression                             140700 non-null  int64  \n",
      "dtypes: float64(8), int64(2), object(10)\n",
      "memory usage: 21.5+ MB\n"
     ]
    }
   ],
   "source": [
    "df.info()"
   ]
  },
  {
   "cell_type": "code",
   "execution_count": 7,
   "id": "d722d21b",
   "metadata": {},
   "outputs": [
    {
     "data": {
      "application/vnd.microsoft.datawrangler.viewer.v0+json": {
       "columns": [
        {
         "name": "index",
         "rawType": "object",
         "type": "string"
        },
        {
         "name": "0",
         "rawType": "int64",
         "type": "integer"
        }
       ],
       "ref": "6ad88d76-a34f-4afa-82f0-7fa63f9e8274",
       "rows": [
        [
         "Name",
         "422"
        ],
        [
         "Gender",
         "2"
        ],
        [
         "Age",
         "43"
        ],
        [
         "City",
         "98"
        ],
        [
         "Working Professional or Student",
         "2"
        ],
        [
         "Profession",
         "64"
        ],
        [
         "Academic Pressure",
         "5"
        ],
        [
         "Work Pressure",
         "5"
        ],
        [
         "CGPA",
         "331"
        ],
        [
         "Study Satisfaction",
         "5"
        ],
        [
         "Job Satisfaction",
         "5"
        ],
        [
         "Sleep Duration",
         "36"
        ],
        [
         "Dietary Habits",
         "23"
        ],
        [
         "Degree",
         "115"
        ],
        [
         "Have you ever had suicidal thoughts ?",
         "2"
        ],
        [
         "Work/Study Hours",
         "13"
        ],
        [
         "Financial Stress",
         "5"
        ],
        [
         "Family History of Mental Illness",
         "2"
        ],
        [
         "Depression",
         "2"
        ]
       ],
       "shape": {
        "columns": 1,
        "rows": 19
       }
      },
      "text/plain": [
       "Name                                     422\n",
       "Gender                                     2\n",
       "Age                                       43\n",
       "City                                      98\n",
       "Working Professional or Student            2\n",
       "Profession                                64\n",
       "Academic Pressure                          5\n",
       "Work Pressure                              5\n",
       "CGPA                                     331\n",
       "Study Satisfaction                         5\n",
       "Job Satisfaction                           5\n",
       "Sleep Duration                            36\n",
       "Dietary Habits                            23\n",
       "Degree                                   115\n",
       "Have you ever had suicidal thoughts ?      2\n",
       "Work/Study Hours                          13\n",
       "Financial Stress                           5\n",
       "Family History of Mental Illness           2\n",
       "Depression                                 2\n",
       "dtype: int64"
      ]
     },
     "execution_count": 7,
     "metadata": {},
     "output_type": "execute_result"
    }
   ],
   "source": [
    "df.nunique()"
   ]
  },
  {
   "cell_type": "code",
   "execution_count": 13,
   "id": "71f8792d",
   "metadata": {},
   "outputs": [
    {
     "name": "stdout",
     "output_type": "stream",
     "text": [
      "Profession : 26.034% missing values\n",
      "Academic Pressure : 80.173% missing values\n",
      "Work Pressure : 19.842% missing values\n",
      "CGPA : 80.172% missing values\n",
      "Study Satisfaction : 80.173% missing values\n",
      "Job Satisfaction : 19.837% missing values\n",
      "Dietary Habits : 0.003% missing values\n",
      "Degree : 0.001% missing values\n",
      "Financial Stress : 0.003% missing values\n"
     ]
    }
   ],
   "source": [
    "# check for missing values\n",
    "misval = df.isnull().sum() / len(df)*100\n",
    "for i in misval.index:\n",
    "    if misval[i] > 0:\n",
    "        print(f\"{i} : {misval[i]:.3f}% missing values\")"
   ]
  },
  {
   "cell_type": "code",
   "execution_count": 16,
   "id": "42f58b9e",
   "metadata": {},
   "outputs": [
    {
     "name": "stdout",
     "output_type": "stream",
     "text": [
      "          Name  Gender   Age       City Working Professional or Student  \\\n",
      "93065     Shiv    Male  53.0   Vadodara            Working Professional   \n",
      "7195      Jiya  Female  28.0      Thane                         Student   \n",
      "49562   Sanket    Male  38.0      Delhi            Working Professional   \n",
      "58009    Ivaan    Male  36.0     Rajkot            Working Professional   \n",
      "112685   Gagan    Male  46.0     Meerut            Working Professional   \n",
      "51834     Amit    Male  24.0  Hyderabad                         Student   \n",
      "55542    Rishi    Male  31.0   Ludhiana            Working Professional   \n",
      "48380   Kartik    Male  23.0     Mumbai                         Student   \n",
      "\n",
      "              Profession  Academic Pressure  Work Pressure  CGPA  \\\n",
      "93065            Teacher                NaN            3.0   NaN   \n",
      "7195                 NaN                1.0            NaN  9.88   \n",
      "49562   Customer Support                NaN            4.0   NaN   \n",
      "58009     UX/UI Designer                NaN            4.0   NaN   \n",
      "112685        Researcher                NaN            4.0   NaN   \n",
      "51834                NaN                3.0            NaN  6.21   \n",
      "55542             Lawyer                NaN            4.0   NaN   \n",
      "48380                NaN                5.0            NaN  7.28   \n",
      "\n",
      "        Study Satisfaction  Job Satisfaction     Sleep Duration  \\\n",
      "93065                  NaN               1.0          5-6 hours   \n",
      "7195                   4.0               NaN          7-8 hours   \n",
      "49562                  NaN               4.0          7-8 hours   \n",
      "58009                  NaN               5.0          5-6 hours   \n",
      "112685                 NaN               2.0          7-8 hours   \n",
      "51834                  5.0               NaN  More than 8 hours   \n",
      "55542                  NaN               4.0  More than 8 hours   \n",
      "48380                  3.0               NaN          5-6 hours   \n",
      "\n",
      "       Dietary Habits    Degree Have you ever had suicidal thoughts ?  \\\n",
      "93065        Moderate    B.Arch                                   Yes   \n",
      "7195          Healthy     B.Com                                   Yes   \n",
      "49562       Unhealthy        BA                                    No   \n",
      "58009         Healthy    M.Tech                                    No   \n",
      "112685      Unhealthy       BSc                                    No   \n",
      "51834         Healthy  Class 12                                   Yes   \n",
      "55542         Healthy       LLB                                    No   \n",
      "48380         Healthy    B.Tech                                   Yes   \n",
      "\n",
      "        Work/Study Hours  Financial Stress Family History of Mental Illness  \\\n",
      "93065                1.0               3.0                              Yes   \n",
      "7195                 9.0               5.0                               No   \n",
      "49562                2.0               4.0                              Yes   \n",
      "58009               10.0               1.0                               No   \n",
      "112685               0.0               4.0                               No   \n",
      "51834                5.0               4.0                               No   \n",
      "55542               11.0               2.0                              Yes   \n",
      "48380                2.0               1.0                              Yes   \n",
      "\n",
      "        Depression  \n",
      "93065            0  \n",
      "7195             1  \n",
      "49562            0  \n",
      "58009            0  \n",
      "112685           0  \n",
      "51834            1  \n",
      "55542            0  \n",
      "48380            1  \n"
     ]
    }
   ],
   "source": [
    "print(df.sample(8))"
   ]
  },
  {
   "cell_type": "code",
   "execution_count": 17,
   "id": "518aa3b0",
   "metadata": {},
   "outputs": [],
   "source": [
    "# seperate into numerical and categorical columns\n",
    "num_cols = [col for col in df.columns if df[col].dtype != 'O']\n",
    "cat_cols = [col for col in df.columns if df[col].dtype == 'O']"
   ]
  },
  {
   "cell_type": "code",
   "execution_count": 18,
   "id": "b847ea95",
   "metadata": {},
   "outputs": [
    {
     "data": {
      "text/plain": [
       "['Age',\n",
       " 'Academic Pressure',\n",
       " 'Work Pressure',\n",
       " 'CGPA',\n",
       " 'Study Satisfaction',\n",
       " 'Job Satisfaction',\n",
       " 'Work/Study Hours',\n",
       " 'Financial Stress',\n",
       " 'Depression']"
      ]
     },
     "execution_count": 18,
     "metadata": {},
     "output_type": "execute_result"
    }
   ],
   "source": [
    "num_cols"
   ]
  },
  {
   "cell_type": "code",
   "execution_count": 19,
   "id": "26466b1d",
   "metadata": {},
   "outputs": [
    {
     "data": {
      "text/plain": [
       "['Name',\n",
       " 'Gender',\n",
       " 'City',\n",
       " 'Working Professional or Student',\n",
       " 'Profession',\n",
       " 'Sleep Duration',\n",
       " 'Dietary Habits',\n",
       " 'Degree',\n",
       " 'Have you ever had suicidal thoughts ?',\n",
       " 'Family History of Mental Illness']"
      ]
     },
     "execution_count": 19,
     "metadata": {},
     "output_type": "execute_result"
    }
   ],
   "source": [
    "cat_cols"
   ]
  },
  {
   "cell_type": "code",
   "execution_count": null,
   "id": "2c78cf08",
   "metadata": {},
   "outputs": [],
   "source": []
  }
 ],
 "metadata": {
  "kernelspec": {
   "display_name": "mlKlasik",
   "language": "python",
   "name": "python3"
  },
  "language_info": {
   "codemirror_mode": {
    "name": "ipython",
    "version": 3
   },
   "file_extension": ".py",
   "mimetype": "text/x-python",
   "name": "python",
   "nbconvert_exporter": "python",
   "pygments_lexer": "ipython3",
   "version": "3.9.21"
  }
 },
 "nbformat": 4,
 "nbformat_minor": 5
}
